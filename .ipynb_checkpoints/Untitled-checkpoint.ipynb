{
 "cells": [
  {
   "cell_type": "markdown",
   "id": "b4103b9d",
   "metadata": {},
   "source": [
    "# imports"
   ]
  },
  {
   "cell_type": "code",
   "execution_count": 1,
   "id": "a97b7f80",
   "metadata": {},
   "outputs": [],
   "source": [
    "import glob\n",
    "import pandas"
   ]
  },
  {
   "cell_type": "markdown",
   "id": "80d4b9bd",
   "metadata": {},
   "source": [
    "# read all vcf in directory"
   ]
  },
  {
   "cell_type": "code",
   "execution_count": null,
   "id": "037afbba",
   "metadata": {},
   "outputs": [],
   "source": [
    "files=glob.glob(\"contacts/*\")"
   ]
  },
  {
   "cell_type": "markdown",
   "id": "84809cc1",
   "metadata": {},
   "source": [
    "# prepare 2 list names and numbers from all vcfs"
   ]
  },
  {
   "cell_type": "code",
   "execution_count": null,
   "id": "9ff4b6c2",
   "metadata": {},
   "outputs": [],
   "source": [
    "names=[]\n",
    "numbers=[]\n",
    "count=0\n",
    "for addr in files:\n",
    "    file = open(addr,encoding=\"latin-1\")\n",
    "    contacts = []\n",
    "    for i,line in enumerate(file):\n",
    "        if i==2:\n",
    "            val=line.split('ENCODING=8BIT:')[-1]\n",
    "            ans=val.split(';')[-1]\n",
    "            names.append(str(ans).strip())\n",
    "            print(ans)\n",
    "        if i==3:\n",
    "            ans=line.split(':')[-1]\n",
    "            if len(ans)>10:\n",
    "                ans=ans[-11:]\n",
    "            print(ans)\n",
    "            numbers.append(str(ans).strip())\n",
    "    print()\n",
    "    count+=1\n",
    "print(count)"
   ]
  },
  {
   "cell_type": "markdown",
   "id": "71de14e7",
   "metadata": {},
   "source": [
    "# compare the lengths"
   ]
  },
  {
   "cell_type": "code",
   "execution_count": null,
   "id": "e9abda19",
   "metadata": {},
   "outputs": [],
   "source": [
    "print(len(names),len(numbers))"
   ]
  },
  {
   "cell_type": "markdown",
   "id": "b68f46f2",
   "metadata": {},
   "source": [
    "# prepare dataframe"
   ]
  },
  {
   "cell_type": "code",
   "execution_count": null,
   "id": "8a26f03d",
   "metadata": {},
   "outputs": [],
   "source": [
    "df = pandas.DataFrame(data={\"names\": names, \"numbers\": numbers})"
   ]
  },
  {
   "cell_type": "markdown",
   "id": "a49cd65f",
   "metadata": {},
   "source": [
    "# write as csv"
   ]
  },
  {
   "cell_type": "code",
   "execution_count": null,
   "id": "4228215d",
   "metadata": {},
   "outputs": [],
   "source": [
    "df.to_csv('file1.csv')"
   ]
  }
 ],
 "metadata": {
  "kernelspec": {
   "display_name": "Python 3.7.3 64-bit",
   "language": "python",
   "name": "python37364bit4b425903f17049189d9a0ba7edd8a384"
  },
  "language_info": {
   "codemirror_mode": {
    "name": "ipython",
    "version": 3
   },
   "file_extension": ".py",
   "mimetype": "text/x-python",
   "name": "python",
   "nbconvert_exporter": "python",
   "pygments_lexer": "ipython3",
   "version": "3.7.3"
  }
 },
 "nbformat": 4,
 "nbformat_minor": 5
}
